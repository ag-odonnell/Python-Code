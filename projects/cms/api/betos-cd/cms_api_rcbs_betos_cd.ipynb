{
  "cells": [
    {
      "cell_type": "markdown",
      "metadata": {
        "id": "view-in-github",
        "colab_type": "text"
      },
      "source": [
        "<a href=\"https://colab.research.google.com/github/ag-odonnell/Python-code/blob/main/projects/cms/api/betos-cd/cms_api_rcbs_betos_cd.ipynb\" target=\"_parent\"><img src=\"https://colab.research.google.com/assets/colab-badge.svg\" alt=\"Open In Colab\"/></a>"
      ]
    },
    {
      "cell_type": "code",
      "execution_count": null,
      "metadata": {
        "id": "VKB4a_pdqQa1",
        "outputId": "fb982d74-b1c0-4c74-afca-d5f4b373b344"
      },
      "outputs": [
        {
          "name": "stdout",
          "output_type": "stream",
          "text": [
            "current time: 2022-11-01 11:08:37.842544\n"
          ]
        }
      ],
      "source": [
        "import datetime\n",
        "print('current time:',datetime.datetime.now())\n",
        "import requests\n",
        "import json\n",
        "import urllib.request\n",
        "import csv\n",
        "import pandas as pd"
      ]
    },
    {
      "cell_type": "code",
      "execution_count": null,
      "metadata": {
        "id": "xCCkD9V7qQa5",
        "outputId": "a3991bd4-c424-4776-a7b9-55dbf70f11af"
      },
      "outputs": [
        {
          "name": "stdout",
          "output_type": "stream",
          "text": [
            "create path and file name/type details\n",
            "current time: 2022-11-01 11:08:39.483824\n"
          ]
        }
      ],
      "source": [
        "print('create path and file name/type details')\n",
        "print('current time:',datetime.datetime.now())\n",
        "file_out_path = 'Data/'\n",
        "file_out_root = 'RCBS_'\n",
        "tdate = '20221027'\n",
        "file_out_ext = '.csv'"
      ]
    },
    {
      "cell_type": "code",
      "execution_count": null,
      "metadata": {
        "id": "u2ms_SviqQa6",
        "outputId": "87c17337-2994-4c41-fb02-107e7a32b459"
      },
      "outputs": [
        {
          "name": "stdout",
          "output_type": "stream",
          "text": [
            "Restructured BETOS Classification System retrieve one page of data from particular CMS API\n",
            "Query form | GET: /dataset/{uuid}/data?offset=&limit=\n",
            "{uuid}=e3db6e56-149f-49ce-b374-40aecda2357b\n",
            "current time: 2022-10-27 10:50:25.743417\n",
            "Data Type: <class 'list'>\n",
            "QUERY number of elements: 486\n",
            "QUERY - LAST element: {'HCPCS_Cd': 'G0342', 'RBCS_ID': 'RX000N', 'RBCS_Cat': 'R', 'RBCS_Cat_Desc': 'Treatment', 'RBCS_Cat_Subcat': 'RX', 'RBCS_Subcat_Desc': 'Treatment - Miscellaneous', 'RBCS_FamNumb': '000', 'RBCS_Family_Desc': 'No RBCS Family', 'RBCS_Major_Ind': 'N', 'HCPCS_Cd_Add_Dt': '01OCT2004', 'HCPCS_Cd_End_Dt': '31DEC9999', 'RBCS_Assignment_Eff_Dt': '01JAN2014', 'RBCS_Assignment_End_Dt': '31DEC2018'}\n"
          ]
        }
      ],
      "source": [
        "# #Initial test of url\n",
        "# #CMS documenation says that there are (n=15,486) rows\n",
        "# #by default the url grabs 1,000 rows\n",
        "# #use the offest and limit parameters to get down to the last row of data\n",
        "# # limit | number of items per query (CMS site like limit=1000 items per query)\n",
        "# #offset | start page (if limit=1000 and want item 15486 then offset=15000 will grab (n=486) items)\n",
        "# print('Restructured BETOS Classification System retrieve one page of data from particular CMS API')\n",
        "# print('Query form | GET: /dataset/{uuid}/data?offset=&limit=')\n",
        "# print('{uuid}=e3db6e56-149f-49ce-b374-40aecda2357b')\n",
        "# print('current time:',datetime.datetime.now())\n",
        "# url = 'https://data.cms.gov/data-api/v1/dataset/e3db6e56-149f-49ce-b374-40aecda2357b/data?offset=15000&limit=1000'\n",
        "# #get the json response from the url for each query instance\n",
        "# response = requests.get(url)\n",
        "# #read the json response into a list of dictionaries\n",
        "# data = response.json()\n",
        "# #verify that creating a list\n",
        "# print('Data Type:',type(data))\n",
        "# #print the length of the last query\n",
        "# print('QUERY number of elements:',len(data))\n",
        "# #print the last row of last query\n",
        "# print('QUERY - LAST element:',data[len(data)-1])"
      ]
    },
    {
      "cell_type": "code",
      "execution_count": null,
      "metadata": {
        "id": "h1yUTsLBqQa7",
        "outputId": "7b737626-26b1-4032-c338-861bf972f72d"
      },
      "outputs": [
        {
          "name": "stdout",
          "output_type": "stream",
          "text": [
            "Restructured BETOS Classification System retrieve ALL data from particular CMS API\n",
            "Query form | GET: /dataset/{uuid}/data?offset=&limit=\n",
            "use pagination to grab all data associated with {uuid}=e3db6e56-149f-49ce-b374-40aecda2357b\n",
            "current time: 2022-11-01 11:08:44.801711\n",
            "rcbsList INITIAL number of elements: 0\n",
            "----\n",
            "Requesting https://data.cms.gov/data-api/v1/dataset/e3db6e56-149f-49ce-b374-40aecda2357b/data?offset=0&limit=1000\n",
            "----\n",
            "Requesting https://data.cms.gov/data-api/v1/dataset/e3db6e56-149f-49ce-b374-40aecda2357b/data?offset=1000&limit=1000\n",
            "----\n",
            "Requesting https://data.cms.gov/data-api/v1/dataset/e3db6e56-149f-49ce-b374-40aecda2357b/data?offset=2000&limit=1000\n",
            "----\n",
            "Requesting https://data.cms.gov/data-api/v1/dataset/e3db6e56-149f-49ce-b374-40aecda2357b/data?offset=3000&limit=1000\n",
            "----\n",
            "Requesting https://data.cms.gov/data-api/v1/dataset/e3db6e56-149f-49ce-b374-40aecda2357b/data?offset=4000&limit=1000\n",
            "----\n",
            "Requesting https://data.cms.gov/data-api/v1/dataset/e3db6e56-149f-49ce-b374-40aecda2357b/data?offset=5000&limit=1000\n",
            "----\n",
            "Requesting https://data.cms.gov/data-api/v1/dataset/e3db6e56-149f-49ce-b374-40aecda2357b/data?offset=6000&limit=1000\n",
            "----\n",
            "Requesting https://data.cms.gov/data-api/v1/dataset/e3db6e56-149f-49ce-b374-40aecda2357b/data?offset=7000&limit=1000\n",
            "----\n",
            "Requesting https://data.cms.gov/data-api/v1/dataset/e3db6e56-149f-49ce-b374-40aecda2357b/data?offset=8000&limit=1000\n",
            "----\n",
            "Requesting https://data.cms.gov/data-api/v1/dataset/e3db6e56-149f-49ce-b374-40aecda2357b/data?offset=9000&limit=1000\n",
            "----\n",
            "Requesting https://data.cms.gov/data-api/v1/dataset/e3db6e56-149f-49ce-b374-40aecda2357b/data?offset=10000&limit=1000\n",
            "----\n",
            "Requesting https://data.cms.gov/data-api/v1/dataset/e3db6e56-149f-49ce-b374-40aecda2357b/data?offset=11000&limit=1000\n",
            "----\n",
            "Requesting https://data.cms.gov/data-api/v1/dataset/e3db6e56-149f-49ce-b374-40aecda2357b/data?offset=12000&limit=1000\n",
            "----\n",
            "Requesting https://data.cms.gov/data-api/v1/dataset/e3db6e56-149f-49ce-b374-40aecda2357b/data?offset=13000&limit=1000\n",
            "----\n",
            "Requesting https://data.cms.gov/data-api/v1/dataset/e3db6e56-149f-49ce-b374-40aecda2357b/data?offset=14000&limit=1000\n",
            "----\n",
            "Requesting https://data.cms.gov/data-api/v1/dataset/e3db6e56-149f-49ce-b374-40aecda2357b/data?offset=15000&limit=1000\n",
            "----\n",
            "Requesting https://data.cms.gov/data-api/v1/dataset/e3db6e56-149f-49ce-b374-40aecda2357b/data?offset=16000&limit=1000\n",
            "rcbsList FINAL number of elements: 15486\n"
          ]
        }
      ],
      "source": [
        "print('Restructured BETOS Classification System retrieve ALL data from particular CMS API')\n",
        "print('Query form | GET: /dataset/{uuid}/data?offset=&limit=')\n",
        "print('use pagination to grab all data associated with {uuid}=e3db6e56-149f-49ce-b374-40aecda2357b')\n",
        "print('current time:',datetime.datetime.now())\n",
        "rcbsList = [] #initialize list\n",
        "print('rcbsList INITIAL number of elements:',len(rcbsList)) #double check that list is empty\n",
        "offset = 0 #start on first page (i.e., 0)\n",
        "limit = 1000 #number of items per page\n",
        "#while True is a run loop forever note\n",
        "while True:\n",
        "    print('----')\n",
        "    url = f'https://data.cms.gov/data-api/v1/dataset/e3db6e56-149f-49ce-b374-40aecda2357b/data?offset={offset}&limit={limit}'\n",
        "    print('Requesting', url)\n",
        "    response = requests.get(url)\n",
        "    data = response.json()\n",
        "    #did we find any more HCPCS_CD rows\n",
        "    if len(data) == 0:\n",
        "        #if not, exit the loop\n",
        "        break\n",
        "    #else add them to our list and then move on to the next offset\n",
        "    rcbsList.extend(data)\n",
        "    \n",
        "    offset = offset + 1000\n",
        "print('rcbsList FINAL number of elements:',len(rcbsList)) #print the ending length of the list (ie. number of dictionaries)"
      ]
    },
    {
      "cell_type": "code",
      "execution_count": null,
      "metadata": {
        "id": "DFR_kFhWqQa8",
        "outputId": "e5fce5d8-96e1-4e22-d898-707470de06e6"
      },
      "outputs": [
        {
          "name": "stdout",
          "output_type": "stream",
          "text": [
            "current time: 2022-10-27 10:42:29.242887\n",
            "rcbs_items type: <class 'list'>\n",
            "15486\n",
            "{'HCPCS_Cd': 'G0342', 'RBCS_ID': 'RX000N', 'RBCS_Cat': 'R', 'RBCS_Cat_Desc': 'Treatment', 'RBCS_Cat_Subcat': 'RX', 'RBCS_Subcat_Desc': 'Treatment - Miscellaneous', 'RBCS_FamNumb': '000', 'RBCS_Family_Desc': 'No RBCS Family', 'RBCS_Major_Ind': 'N', 'HCPCS_Cd_Add_Dt': '01OCT2004', 'HCPCS_Cd_End_Dt': '31DEC9999', 'RBCS_Assignment_Eff_Dt': '01JAN2014', 'RBCS_Assignment_End_Dt': '31DEC2018'}\n"
          ]
        }
      ],
      "source": [
        "# #Do things a different way to double check info of previous steps\n",
        "# print('current time:',datetime.datetime.now())\n",
        "# print('rcbs_items type:',type(rcbsList))\n",
        "# cnt=0\n",
        "# for rcbsDict in rcbsList:\n",
        "#     cnt=cnt+1\n",
        "#     dict=rcbsDict\n",
        "# print(cnt)\n",
        "# print(rcbsDict)"
      ]
    },
    {
      "cell_type": "code",
      "execution_count": null,
      "metadata": {
        "id": "o1z2fJEWqQa8",
        "outputId": "60d93373-7dfc-4fd8-b973-f0bcce589007"
      },
      "outputs": [
        {
          "name": "stdout",
          "output_type": "stream",
          "text": [
            "create a class for file name and path strings...\n",
            "current time: 2022-11-01 11:48:26.090047\n"
          ]
        }
      ],
      "source": [
        "#this complication is not necessary. Wrote as practice creating a class\n",
        "print('create a class for file name and path strings...')\n",
        "print('current time:',datetime.datetime.now())\n",
        "class JoinStrings:\n",
        "    def __init__(self, list_of_strings):\n",
        "        self.list_of_strings = list_of_strings\n",
        "    def joinStringFunc(self):\n",
        "        return ''.join(self.list_of_strings)\n",
        "    def __str__(self):\n",
        "        return"
      ]
    },
    {
      "cell_type": "code",
      "execution_count": null,
      "metadata": {
        "id": "mie--71rqQa9",
        "outputId": "aaeedd24-0209-48b2-a644-74a564368ddd"
      },
      "outputs": [
        {
          "name": "stdout",
          "output_type": "stream",
          "text": [
            "Create <.csv> output file and path\n",
            "current time: 2022-11-01 11:48:28.662974\n",
            "file_out: Data/RCBS_20221027.csv\n"
          ]
        }
      ],
      "source": [
        "print('Create <.csv> output file and path')\n",
        "print('current time:',datetime.datetime.now())\n",
        "selectFile = JoinStrings([file_out_path,file_out_root,tdate,file_out_ext])\n",
        "file_out = selectFile.joinStringFunc()\n",
        "print('file_out:',file_out)"
      ]
    },
    {
      "cell_type": "markdown",
      "source": [
        "## Note: wrote the print of rows in several different ways\n",
        "Meant as practice"
      ],
      "metadata": {
        "id": "bU8BPKR-qur-"
      }
    },
    {
      "cell_type": "code",
      "execution_count": null,
      "metadata": {
        "id": "_fKcIt5tqQa-",
        "outputId": "5ac84ad0-b1a6-4766-9313-e6d74c1339b8"
      },
      "outputs": [
        {
          "name": "stdout",
          "output_type": "stream",
          "text": [
            "current time: 2022-10-27 10:43:32.729809\n",
            "rcbs_items type: <class 'list'>\n",
            "rcbs element type: <class 'dict'>\n",
            "{'HCPCS_Cd': '0001U', 'RBCS_ID': 'TM000N', 'RBCS_Cat': 'T', 'RBCS_Cat_Desc': 'Test', 'RBCS_Cat_Subcat': 'TM', 'RBCS_Subcat_Desc': 'Molecular Testing', 'RBCS_FamNumb': '000', 'RBCS_Family_Desc': 'No RBCS Family', 'RBCS_Major_Ind': 'N', 'HCPCS_Cd_Add_Dt': '01FEB2017', 'HCPCS_Cd_End_Dt': '31DEC9999', 'RBCS_Assignment_Eff_Dt': '01JAN2014', 'RBCS_Assignment_End_Dt': '31DEC2019'}\n",
            "{'HCPCS_Cd': '0001U', 'RBCS_ID': 'TM014N', 'RBCS_Cat': 'T', 'RBCS_Cat_Desc': 'Test', 'RBCS_Cat_Subcat': 'TM', 'RBCS_Subcat_Desc': 'Molecular Testing', 'RBCS_FamNumb': '014', 'RBCS_Family_Desc': 'Genetic Analysis', 'RBCS_Major_Ind': 'N', 'HCPCS_Cd_Add_Dt': '01FEB2017', 'HCPCS_Cd_End_Dt': '31DEC9999', 'RBCS_Assignment_Eff_Dt': '01JAN2016', 'RBCS_Assignment_End_Dt': '31DEC2020'}\n"
          ]
        }
      ],
      "source": [
        "# print('current time:',datetime.datetime.now())\n",
        "# print('rcbs_items type:',type(rcbsList))\n",
        "# cnt=0\n",
        "# for rcbsDict in rcbsList:\n",
        "#     cnt=cnt+1\n",
        "#     if cnt<2:\n",
        "#         print('rcbs element type:',type(rcbsDict))\n",
        "#         print(rcbsDict)\n",
        "#     elif cnt<3:\n",
        "#         print(rcbsDict)\n",
        "#     else:\n",
        "#         break"
      ]
    },
    {
      "cell_type": "code",
      "execution_count": null,
      "metadata": {
        "id": "xLhfv92xqQa_",
        "outputId": "d0859636-7a5a-48d5-bccc-a21096faaec2"
      },
      "outputs": [
        {
          "name": "stdout",
          "output_type": "stream",
          "text": [
            "current time: 2022-10-27 10:51:33.167986\n",
            "**Dictionary Keys**: ['HCPCS_Cd', 'RBCS_ID', 'RBCS_Cat', 'RBCS_Cat_Desc', 'RBCS_Cat_Subcat', 'RBCS_Subcat_Desc', 'RBCS_FamNumb', 'RBCS_Family_Desc', 'RBCS_Major_Ind', 'HCPCS_Cd_Add_Dt', 'HCPCS_Cd_End_Dt', 'RBCS_Assignment_Eff_Dt', 'RBCS_Assignment_End_Dt']\n",
            "**List item 0 | Dictionary first key value**: 0001U\n",
            "**Dictionary Values**: ['0001U', 'TM000N', 'T', 'Test', 'TM', 'Molecular Testing', '000', 'No RBCS Family', 'N', '01FEB2017', '31DEC9999', '01JAN2014', '31DEC2019']\n",
            "{'HCPCS_Cd': '0001U', 'RBCS_ID': 'TM000N', 'RBCS_Cat': 'T', 'RBCS_Cat_Desc': 'Test', 'RBCS_Cat_Subcat': 'TM', 'RBCS_Subcat_Desc': 'Molecular Testing', 'RBCS_FamNumb': '000', 'RBCS_Family_Desc': 'No RBCS Family', 'RBCS_Major_Ind': 'N', 'HCPCS_Cd_Add_Dt': '01FEB2017', 'HCPCS_Cd_End_Dt': '31DEC9999', 'RBCS_Assignment_Eff_Dt': '01JAN2014', 'RBCS_Assignment_End_Dt': '31DEC2019'}\n"
          ]
        }
      ],
      "source": [
        "# print('current time:',datetime.datetime.now())\n",
        "# print('**Dictionary Keys**:',list(rcbsList[0].keys()))\n",
        "# print('**List item 0 | Dictionary first key value**:',rcbsList[0]['HCPCS_Cd'])\n",
        "# print('**Dictionary Values**:',list(rcbsList[0].values()))\n",
        "# print(rcbsList[0])"
      ]
    },
    {
      "cell_type": "code",
      "execution_count": null,
      "metadata": {
        "id": "J5nBxneaqQa_",
        "outputId": "57ad80b0-5de0-4101-ce2b-d4132477df08"
      },
      "outputs": [
        {
          "name": "stdout",
          "output_type": "stream",
          "text": [
            "**Dictionary First Key**: HCPCS_Cd\n"
          ]
        }
      ],
      "source": [
        "# print('**Dictionary First Key**:',list(rcbsList[0].keys())[0])"
      ]
    },
    {
      "cell_type": "code",
      "execution_count": null,
      "metadata": {
        "id": "kQyZCTOaqQbA",
        "outputId": "abceac58-fc19-42fa-a033-ffcd6cb76d3d"
      },
      "outputs": [
        {
          "name": "stdout",
          "output_type": "stream",
          "text": [
            "convert the dictionary keys to a list\n",
            "current time: 2022-10-27 10:52:44.512450\n",
            "Number of dictionary keys: 13\n",
            "Dictionary key_list: ['HCPCS_Cd', 'RBCS_ID', 'RBCS_Cat', 'RBCS_Cat_Desc', 'RBCS_Cat_Subcat', 'RBCS_Subcat_Desc', 'RBCS_FamNumb', 'RBCS_Family_Desc', 'RBCS_Major_Ind', 'HCPCS_Cd_Add_Dt', 'HCPCS_Cd_End_Dt', 'RBCS_Assignment_Eff_Dt', 'RBCS_Assignment_End_Dt']\n"
          ]
        }
      ],
      "source": [
        "# print('convert the dictionary keys to a list')\n",
        "# print('current time:',datetime.datetime.now())\n",
        "# dictKeyList = list(rcbsList[0].keys())\n",
        "# #find the length of the key_list\n",
        "# dictKeyListNum = len(dictKeyList)\n",
        "# print('Number of dictionary keys:',dictKeyListNum)\n",
        "# print('Dictionary key_list:',dictKeyList)"
      ]
    },
    {
      "cell_type": "code",
      "execution_count": null,
      "metadata": {
        "id": "Z3tHDSA5qQbA",
        "outputId": "390ebc43-e419-4fb1-d2da-5abc59fd6806"
      },
      "outputs": [
        {
          "name": "stdout",
          "output_type": "stream",
          "text": [
            "Create a csv file called rcbs.csv and write list of dict to it\n",
            "current time: 2022-11-01 11:53:40.252314\n",
            "15486\n"
          ]
        }
      ],
      "source": [
        "print('Create a csv file called rcbs.csv and write list of dict to it')\n",
        "print('current time:',datetime.datetime.now())\n",
        "listOfDict = rcbsList\n",
        "#rcbsFileOut = 'rcbs.csv' #use this line if manually assign file name to be output in current directory\n",
        "rcbsFileOut = file_out\n",
        "rcbsFile = open(rcbsFileOut, 'w')\n",
        "writer = csv.writer(rcbsFile)\n",
        "#writer.writerow(['columnName1', 'columnName2', 'columnName3'])\n",
        "writer.writerow(list(listOfDict[0].keys()))\n",
        "cnt = 0\n",
        "for dictionary in listOfDict:\n",
        "    cnt = cnt+1\n",
        "    #writer.writerow(dictionary.values())\n",
        "    writer.writerow(dictionary.values())\n",
        "rcbsFile.close()\n",
        "print(cnt)"
      ]
    },
    {
      "cell_type": "code",
      "execution_count": null,
      "metadata": {
        "id": "BObbZQ1sqQbB",
        "outputId": "8fdbba02-0fe2-466f-b384-701680b640a3"
      },
      "outputs": [
        {
          "name": "stdout",
          "output_type": "stream",
          "text": [
            "Print all rows of recently created csv\n",
            "current time: 2022-10-26 11:21:23.842524\n"
          ]
        }
      ],
      "source": [
        "# print('Print all rows of recently created csv')\n",
        "# print('current time:',datetime.datetime.now())\n",
        "# rcbsFile = open(rcbsFileOut, 'r')\n",
        "# print('The content of the csv file is:')\n",
        "# print(rcbsFile.read())\n",
        "# rcbsFile.close()"
      ]
    },
    {
      "cell_type": "code",
      "execution_count": null,
      "metadata": {
        "id": "KJSY7NTBqQbB",
        "outputId": "452eaf93-f2ee-41e6-a2f3-de969557ca18"
      },
      "outputs": [
        {
          "name": "stdout",
          "output_type": "stream",
          "text": [
            "Print first few rows of recently created csv\n",
            "current time: 2022-11-01 11:48:41.552955\n",
            "['HCPCS_Cd,RBCS_ID,RBCS_Cat,RBCS_Cat_Desc,RBCS_Cat_Subcat,RBCS_Subcat_Desc,RBCS_FamNumb,RBCS_Family_Desc,RBCS_Major_Ind,HCPCS_Cd_Add_Dt,HCPCS_Cd_End_Dt,RBCS_Assignment_Eff_Dt,RBCS_Assignment_End_Dt']\n",
            "['0001U,TM000N,T,Test,TM,Molecular Testing,000,No RBCS Family,N,01FEB2017,31DEC9999,01JAN2014,31DEC2019']\n",
            "['0001U,TM014N,T,Test,TM,Molecular Testing,014,Genetic Analysis,N,01FEB2017,31DEC9999,01JAN2016,31DEC2020']\n",
            "['0002U,TM014N,T,Test,TM,Molecular Testing,014,Genetic Analysis,N,01FEB2017,31DEC9999,01JAN2016,31DEC2020']\n"
          ]
        }
      ],
      "source": [
        "print('Print first few rows of recently created csv')\n",
        "print('current time:',datetime.datetime.now())\n",
        "cnt = 0\n",
        "with open(rcbsFileOut, 'r') as file:\n",
        "    reader = csv.reader(file, delimiter = '\\t')\n",
        "    for row in reader:\n",
        "        cnt = cnt+1\n",
        "        if cnt<5:\n",
        "            print(row)"
      ]
    },
    {
      "cell_type": "code",
      "execution_count": null,
      "metadata": {
        "id": "lf3HGUlgqQbB",
        "outputId": "1a1673e5-8425-4484-e54d-94b86eb023dc"
      },
      "outputs": [
        {
          "name": "stdout",
          "output_type": "stream",
          "text": [
            "Print first few rows of recently created csv\n",
            "current time: 2022-11-01 11:48:52.866617\n",
            "HCPCS_Cd,RBCS_ID,RBCS_Cat,RBCS_Cat_Desc,RBCS_Cat_Subcat,RBCS_Subcat_Desc,RBCS_FamNumb,RBCS_Family_Desc,RBCS_Major_Ind,HCPCS_Cd_Add_Dt,HCPCS_Cd_End_Dt,RBCS_Assignment_Eff_Dt,RBCS_Assignment_End_Dt\n",
            "\n",
            "0001U,TM000N,T,Test,TM,Molecular Testing,000,No RBCS Family,N,01FEB2017,31DEC9999,01JAN2014,31DEC2019\n",
            "\n",
            "0001U,TM014N,T,Test,TM,Molecular Testing,014,Genetic Analysis,N,01FEB2017,31DEC9999,01JAN2016,31DEC2020\n",
            "\n"
          ]
        }
      ],
      "source": [
        "# another practice section\n",
        "# print('Print first few rows of recently created csv')\n",
        "# print('current time:',datetime.datetime.now())\n",
        "# with open(rcbsFileOut, 'r') as file:\n",
        "#     firstLinesBlob = file.readlines()[0:3]\n",
        "# print(*firstLinesBlob,sep=\"\\n\") #print first few lines with break at \"\\n\" in the blob"
      ]
    },
    {
      "cell_type": "code",
      "execution_count": null,
      "metadata": {
        "id": "FcYC1EqSqQbC",
        "outputId": "22927067-16b1-4966-ca04-1b30f8584074"
      },
      "outputs": [
        {
          "name": "stdout",
          "output_type": "stream",
          "text": [
            "Print last rows of recently created csv\n",
            "current time: 2022-10-27 11:19:02.505865\n",
            "G0342,RX000N,R,Treatment,RX,Treatment - Miscellaneous,000,No RBCS Family,N,01OCT2004,31DEC9999,01JAN2014,31DEC2018\n",
            "\n"
          ]
        }
      ],
      "source": [
        "print('Print last rows of recently created csv')\n",
        "print('current time:',datetime.datetime.now())\n",
        "with open(rcbsFileOut, 'r') as file:\n",
        "    finalLine = file.readlines()[-1]\n",
        "print(finalLine)"
      ]
    },
    {
      "cell_type": "code",
      "execution_count": null,
      "metadata": {
        "id": "_eV_33UEqQbC",
        "outputId": "44a806d7-3f0b-493f-81ec-80a75d4fc239"
      },
      "outputs": [
        {
          "name": "stdout",
          "output_type": "stream",
          "text": [
            "Check for duplicate rows\n",
            "current time: 2022-10-27 11:19:07.412716\n",
            "rcbsListDictCount:15486\n",
            "rcbsListUniqueDictCount:15486\n"
          ]
        }
      ],
      "source": [
        "print('Check for duplicate rows')\n",
        "print('current time:',datetime.datetime.now())\n",
        "rcbsListUnique = list(set(val for dic in rcbsList for val in dic.values()))\n",
        "#List of dictionary count using list comprehension\n",
        "rcbsListDictCount = len([ele for ele in rcbsList if isinstance(ele,dict)])\n",
        "print('rcbsListDictCount:' + str(rcbsListDictCount))\n",
        "rcbsListUniqueDictCount = len([ele for ele in rcbsList if isinstance(ele,dict)])\n",
        "print('rcbsListUniqueDictCount:' + str(rcbsListUniqueDictCount))"
      ]
    },
    {
      "cell_type": "code",
      "execution_count": null,
      "metadata": {
        "id": "7Ly4b-5WqQbC",
        "outputId": "241a3f6e-1fd9-40d2-e4e5-3304fe52c9af"
      },
      "outputs": [
        {
          "name": "stdout",
          "output_type": "stream",
          "text": [
            "Check for duplicate HCPCS_CD values\n",
            "current time: 2022-10-31 10:25:27.563241\n",
            "number of key/value pairs in last disctionary of list: 13\n",
            "last key: HCPCS_Cd\n",
            "last value: G0342\n",
            "last line of rcbsList: {'HCPCS_Cd': 'G0342', 'RBCS_ID': 'RX000N', 'RBCS_Cat': 'R', 'RBCS_Cat_Desc': 'Treatment', 'RBCS_Cat_Subcat': 'RX', 'RBCS_Subcat_Desc': 'Treatment - Miscellaneous', 'RBCS_FamNumb': '000', 'RBCS_Family_Desc': 'No RBCS Family', 'RBCS_Major_Ind': 'N', 'HCPCS_Cd_Add_Dt': '01OCT2004', 'HCPCS_Cd_End_Dt': '31DEC9999', 'RBCS_Assignment_Eff_Dt': '01JAN2014', 'RBCS_Assignment_End_Dt': '31DEC2018'}\n"
          ]
        }
      ],
      "source": [
        "print('Check for duplicate HCPCS_CD values')\n",
        "print('current time:',datetime.datetime.now())\n",
        "for rcbsDict in rcbsList:\n",
        "    dict = rcbsDict\n",
        "#Name(KEY) of the first element of the dictionaries\n",
        "resKey = list(dict.keys())[0]\n",
        "resValue = list(dict.values())[0]\n",
        "print('number of key/value pairs in last disctionary of list:',len(dict))\n",
        "print('last key:',resKey)\n",
        "print('last value:',resValue)\n",
        "print('last line of rcbsList:',dict)"
      ]
    },
    {
      "cell_type": "markdown",
      "source": [
        "## Note: again, wrote the print out of information in several different ways\n",
        "practice!"
      ],
      "metadata": {
        "id": "2EMrVdLHrQtv"
      }
    },
    {
      "cell_type": "code",
      "execution_count": null,
      "metadata": {
        "id": "M8KbfjdJqQbD",
        "outputId": "8c327286-e74b-4b5c-e940-84529c6978f8"
      },
      "outputs": [
        {
          "name": "stdout",
          "output_type": "stream",
          "text": [
            "current time: 2022-11-01 08:19:21.731115\n",
            "['0001U', '0001U', '0002U', '0003U']\n"
          ]
        }
      ],
      "source": [
        "#Get list of values from a list of dictionary\n",
        "#List Comprehension\n",
        "print('current time:',datetime.datetime.now())\n",
        "a_key = 'HCPCS_Cd'\n",
        "list_of_values = [a_dict[a_key] for a_dict in rcbsList]\n",
        "print(list_of_values[0:4])"
      ]
    },
    {
      "cell_type": "code",
      "execution_count": null,
      "metadata": {
        "id": "nocavBtgqQbD",
        "outputId": "511c45e5-dd0d-4f4b-f05a-eb115fad13c3"
      },
      "outputs": [
        {
          "name": "stdout",
          "output_type": "stream",
          "text": [
            "['0001U', '0001U', '0002U', '0003U']\n"
          ]
        }
      ],
      "source": [
        "# #Get list of values from a list of dictionary\n",
        "# #map() and lambda functions\n",
        "# a_key = 'HCPCS_Cd'\n",
        "# list_of_values = list(map(lambda d: d[a_key],rcbsList))\n",
        "# print(list_of_values[0:4])"
      ]
    },
    {
      "cell_type": "code",
      "execution_count": null,
      "metadata": {
        "id": "KnSNI-plqQbD",
        "outputId": "ca885e49-e746-4bbc-eb8c-750e330abff2"
      },
      "outputs": [
        {
          "name": "stdout",
          "output_type": "stream",
          "text": [
            "['0001U', '0001U', '0002U', '0003U']\n"
          ]
        }
      ],
      "source": [
        "# #Get list of values from a list of dictionary\n",
        "# #operator and functools module\n",
        "# import operator, functools\n",
        "# a_key = 'HCPCS_Cd'\n",
        "# get_value = operator.itemgetter(a_key)\n",
        "# list_of_values = functools.partial(map, get_value)\n",
        "# print(list(list_of_values(rcbsList))[0:4])"
      ]
    },
    {
      "cell_type": "code",
      "execution_count": null,
      "metadata": {
        "id": "5zcG3ED7qQbE",
        "outputId": "db81ee3f-dffe-4b92-9258-28e69906f055"
      },
      "outputs": [
        {
          "name": "stdout",
          "output_type": "stream",
          "text": [
            "['0001U', '0001U', '0002U', '0003U']\n"
          ]
        }
      ],
      "source": [
        "# #Get list of values from a list of dictionary\n",
        "# #empty list and append() function\n",
        "# a_key = 'HCPCS_Cd'\n",
        "# list_of_values = ['']\n",
        "# j=0\n",
        "# for i in rcbsList:\n",
        "#     if j==0:\n",
        "#         list_of_values[0]=(i[a_key])\n",
        "#     else:\n",
        "#         list_of_values.append(i[a_key])\n",
        "#     j+=1\n",
        "# print(list_of_values[0:4])"
      ]
    },
    {
      "cell_type": "code",
      "execution_count": null,
      "metadata": {
        "id": "2Hdmg1sOqQbE",
        "outputId": "2b486124-5533-4acc-d0ed-b5b43f6cfbc7"
      },
      "outputs": [
        {
          "name": "stdout",
          "output_type": "stream",
          "text": [
            "current time: 2022-11-01 11:10:24.794066\n",
            "HCPCS_CD unique: 14360\n",
            "HCPCS_CD duplication: 1126\n",
            "HCPCS_CD total rows: 15486\n",
            "HCPCS_CD dedup duplication: 1087\n"
          ]
        }
      ],
      "source": [
        "#count and output duplicate items of a list\n",
        "print('current time:',datetime.datetime.now())\n",
        "uniqueList = []\n",
        "duplicateListAll = []\n",
        "duplicateList = []\n",
        "cntUnique = 0\n",
        "cntDuplicateAll = 0\n",
        "cntDuplicate = 0\n",
        "for i in list_of_values:\n",
        "    if i not in uniqueList:\n",
        "        cntUnique+=1\n",
        "        uniqueList.append(i)\n",
        "#     elif i not in duplicateList:\n",
        "#         cntDuplicate+=1\n",
        "#         duplicateList.append(i)\n",
        "    else:\n",
        "        cntDuplicateAll+=1\n",
        "        duplicateListAll.append(i)\n",
        "        if i not in duplicateList:\n",
        "            cntDuplicate+=1\n",
        "            duplicateList.append(i)\n",
        "print('HCPCS_CD unique:',cntUnique)\n",
        "print('HCPCS_CD duplication:',cntDuplicateAll)\n",
        "print('HCPCS_CD total rows:',cntUnique+cntDuplicateAll)\n",
        "print('HCPCS_CD dedup duplication:',cntDuplicate)"
      ]
    },
    {
      "cell_type": "markdown",
      "source": [
        "## I was challenged by extracting items from list with counts\n",
        "The section below is a self-contained example that was applied to the list of dictionaries."
      ],
      "metadata": {
        "id": "JvPGfhhmrjqb"
      }
    },
    {
      "cell_type": "code",
      "execution_count": null,
      "metadata": {
        "id": "xoyqTyEhqQbE",
        "outputId": "e6d95dcc-4b58-4958-d5cc-85ed95af3f81"
      },
      "outputs": [
        {
          "name": "stdout",
          "output_type": "stream",
          "text": [
            "a :: 2\n",
            "is :: 2\n"
          ]
        }
      ],
      "source": [
        "# listOfElems = ['Hello','this','a','is','that','a','is','not']\n",
        "# # find duplicates in a list with frequency count\n",
        "# def getDuplicatesWithCount(input_list):\n",
        "#     dictOfElems = {}\n",
        "#     #Iterate over each element in lkist\n",
        "#     for elem in input_list:\n",
        "#         #If element exists in dict then increment its value else add it in dict\n",
        "#         if elem in dictOfElems:\n",
        "#             dictOfElems[elem] +=1\n",
        "#         else:\n",
        "#             dictOfElems[elem] = 1\n",
        "#     #Filter key-value pairs in a dictionary. Keep pairs whose value is greater than 2\n",
        "#     dictOfElems = {key:value for (key, value) in dictOfElems.items() if value > 1}\n",
        "#     #Returns a dict of duplicate elements and their frequency count\n",
        "#     return dictOfElems\n",
        "#     #print(dictOfElems)\n",
        "\n",
        "# dictOfElems = getDuplicatesWithCount(listOfElems)\n",
        "# for key, value in dictOfElems.items():\n",
        "#     print(key, '::', value)"
      ]
    },
    {
      "cell_type": "code",
      "execution_count": null,
      "metadata": {
        "id": "15WFiD02qQbE",
        "outputId": "0ee859a9-36e5-403c-aea3-1c45807b8661"
      },
      "outputs": [
        {
          "name": "stdout",
          "output_type": "stream",
          "text": [
            "current time: 2022-11-01 08:18:51.337002\n",
            "51798 :: 3\n",
            "81280 :: 3\n",
            "81410 :: 3\n",
            "81411 :: 3\n",
            "81412 :: 3\n",
            "81413 :: 3\n",
            "81414 :: 3\n",
            "81415 :: 3\n",
            "81416 :: 3\n",
            "81420 :: 3\n",
            "81422 :: 3\n",
            "81430 :: 3\n",
            "81431 :: 3\n",
            "81432 :: 3\n",
            "81433 :: 3\n",
            "81434 :: 3\n",
            "81435 :: 3\n",
            "81436 :: 3\n",
            "81437 :: 3\n",
            "81438 :: 3\n",
            "81439 :: 3\n",
            "81440 :: 3\n",
            "81442 :: 3\n",
            "81445 :: 3\n",
            "81450 :: 3\n",
            "81455 :: 3\n",
            "81460 :: 3\n",
            "81465 :: 3\n",
            "81470 :: 3\n",
            "81490 :: 3\n",
            "81493 :: 3\n",
            "81500 :: 3\n",
            "81503 :: 3\n",
            "81507 :: 3\n",
            "83006 :: 3\n",
            "E2100 :: 3\n",
            "E2101 :: 3\n",
            "G0436 :: 3\n",
            "Q0180 :: 3\n"
          ]
        }
      ],
      "source": [
        "# find duplicates in a list with frequency count\n",
        "print('current time:',datetime.datetime.now())\n",
        "def getDuplicatesWithCount(input_list):\n",
        "    dictOfElems = {}\n",
        "    #Iterate over each element in lkist\n",
        "    for elem in input_list:\n",
        "        #If element exists in dict then increment its value else add it in dict\n",
        "        if elem in dictOfElems:\n",
        "            dictOfElems[elem] +=1\n",
        "        else:\n",
        "            dictOfElems[elem] = 2\n",
        "    #Filter key-value pairs in a dictionary. Keep pairs whose value is greater than 2\n",
        "    dictOfElems = {key:value for (key, value) in dictOfElems.items() if value > 2}\n",
        "    #Returns a dict of duplicate elements and their frequency count\n",
        "    return dictOfElems\n",
        "    #print(dictOfElems)\n",
        "\n",
        "dictOfElems = getDuplicatesWithCount(duplicateListAll)\n",
        "for key, value in dictOfElems.items():\n",
        "    print(key, '::', value)"
      ]
    },
    {
      "cell_type": "markdown",
      "source": [
        "## Note: again, self-contained construction code\n",
        "used the following code to build the approach for this analysis"
      ],
      "metadata": {
        "id": "XHtr31t_r8Fq"
      }
    },
    {
      "cell_type": "code",
      "execution_count": null,
      "metadata": {
        "id": "BE2i1H7tqQbF",
        "outputId": "61e0e730-7a49-4246-8f12-5eb9b9bd8bbf"
      },
      "outputs": [
        {
          "name": "stdout",
          "output_type": "stream",
          "text": [
            "{'Hello': 1, 'this': 1, 'a': 2, 'is': 2, 'that': 1, 'not': 1}\n",
            "{'a': 2, 'is': 2}\n"
          ]
        }
      ],
      "source": [
        "# listOfElems = ['Hello','this','a','is','that','a','is','not']\n",
        "\n",
        "# def count_dup_list(input_list):\n",
        "#     count_map = {}\n",
        "#     for i in input_list:\n",
        "#         count_map[i] = count_map.get(i,0)+1\n",
        "#     #print(count_map)\n",
        "#     return count_map\n",
        "# countListOut = count_dup_list(listOfElems)\n",
        "# print(countListOut)\n",
        "# #filter dictionary key based on the values in selective list\n",
        "# select_list = 2\n",
        "# #res = [countListOut[i] for i in select_list if i in countListOut]\n",
        "# res = {key:value for (key,value) in countListOut.items() if value >= select_list}\n",
        "# print(res)"
      ]
    },
    {
      "cell_type": "code",
      "execution_count": null,
      "metadata": {
        "id": "5MVOUomOqQbF",
        "outputId": "7e00217b-5cc8-40b8-ce27-923abaac175a"
      },
      "outputs": [
        {
          "name": "stdout",
          "output_type": "stream",
          "text": [
            "{'Hello': 1, 'this': 1, 'a': 2, 'is': 2, 'that': 1, 'not': 1}\n"
          ]
        }
      ],
      "source": [
        "# listOfElems = ['Hello','this','a','is','that','a','is','not']\n",
        "\n",
        "# def count_dup_list(input_list):\n",
        "#     count_map = {}\n",
        "#     for elem in input_list:\n",
        "#         #count_map[elem] = count_map.get(elem,0)+1\n",
        "#         #print(count_map)\n",
        "#         #return count_map\n",
        "#         if elem in count_map:\n",
        "#             count_map[elem] +=1\n",
        "#         else:\n",
        "#             count_map[elem] =1\n",
        "#     return count_map\n",
        "#     #print(count_map)\n",
        "# countListOut = count_dup_list(listOfElems)\n",
        "# print(countListOut)"
      ]
    },
    {
      "cell_type": "code",
      "execution_count": null,
      "metadata": {
        "id": "HrriO9PeqQbF",
        "outputId": "de9fc97a-cd48-4901-961f-ad5b5c2b87a3"
      },
      "outputs": [
        {
          "name": "stdout",
          "output_type": "stream",
          "text": [
            "current time: 2022-11-01 08:18:39.388010\n",
            "['81430', '81493', '81490', '81431', '51798', '81433', '81415', '81414', '81413', '81412', '81436', '81439', '81438', '81411', '81410', '81432', '81434', '81435', '81437', '81470', '81450', '81455', 'Q0180', '81280', '81507', 'G0436', '81500', '81503', '81460', 'E2101', 'E2100', '81465', '81440', '81416', '81442', '81422', '81445', '81420', '83006']\n"
          ]
        }
      ],
      "source": [
        "#filter list with duplicate items\n",
        "#filter on HCPCS_CD with count greater than 2\n",
        "#notice that \"input_list.count(x) > 1\" assumes that the first value exists in uniqueList\n",
        "# therefore the existence in this list implies that there are at least 2 values (i.e., \">1\" is actually 3)\n",
        "print('current time:',datetime.datetime.now())\n",
        "def duplicate(input_list):\n",
        "    return list(set([x for x in input_list if input_list.count(x) > 1]))\n",
        "# print(duplicateListAll)\n",
        "#print(duplicate(duplicateListAll))\n",
        "listHcpcsMoreThanTwo = (duplicate(duplicateListAll))\n",
        "print(listHcpcsMoreThanTwo)"
      ]
    },
    {
      "cell_type": "code",
      "execution_count": null,
      "metadata": {
        "id": "gY8yp7-QqQbF",
        "outputId": "7fa8f9c1-3904-4eb8-9474-abecc39acd65"
      },
      "outputs": [
        {
          "name": "stdout",
          "output_type": "stream",
          "text": [
            "{'HCPCS_Cd': '51798', 'RBCS_ID': 'IU000N', 'RBCS_Cat': 'I', 'RBCS_Cat_Desc': 'Imaging', 'RBCS_Cat_Subcat': 'IU', 'RBCS_Subcat_Desc': 'Ultrasound', 'RBCS_FamNumb': '000', 'RBCS_Family_Desc': 'No RBCS Family', 'RBCS_Major_Ind': 'N', 'HCPCS_Cd_Add_Dt': '01JAN2003', 'HCPCS_Cd_End_Dt': '31DEC9999', 'RBCS_Assignment_Eff_Dt': '01JAN2015', 'RBCS_Assignment_End_Dt': '31DEC2019'}\n",
            "{'HCPCS_Cd': '51798', 'RBCS_ID': 'IU018N', 'RBCS_Cat': 'I', 'RBCS_Cat_Desc': 'Imaging', 'RBCS_Cat_Subcat': 'IU', 'RBCS_Subcat_Desc': 'Ultrasound', 'RBCS_FamNumb': '018', 'RBCS_Family_Desc': 'Ultrasound - Nonspecific', 'RBCS_Major_Ind': 'N', 'HCPCS_Cd_Add_Dt': '01JAN2003', 'HCPCS_Cd_End_Dt': '31DEC9999', 'RBCS_Assignment_Eff_Dt': '01JAN2016', 'RBCS_Assignment_End_Dt': '31DEC2020'}\n",
            "{'HCPCS_Cd': '51798', 'RBCS_ID': 'TX000N', 'RBCS_Cat': 'T', 'RBCS_Cat_Desc': 'Test', 'RBCS_Cat_Subcat': 'TX', 'RBCS_Subcat_Desc': 'Test - Miscellaneous', 'RBCS_FamNumb': '000', 'RBCS_Family_Desc': 'No RBCS Family', 'RBCS_Major_Ind': 'N', 'HCPCS_Cd_Add_Dt': '01JAN2003', 'HCPCS_Cd_End_Dt': '31DEC9999', 'RBCS_Assignment_Eff_Dt': '01JAN2014', 'RBCS_Assignment_End_Dt': '31DEC2018'}\n"
          ]
        }
      ],
      "source": [
        "#find single item in a list of dictionary\n",
        "#list comprehension\n",
        "searchValue='51798'\n",
        "#searchValue='83006'\n",
        "a_key = 'HCPCS_Cd'\n",
        "def search(list_item, rcbsList):\n",
        "    return [element for element in rcbsList if element[a_key] == list_item]\n",
        "res = search(searchValue,rcbsList)\n",
        "print(*res, sep=\"\\n\")"
      ]
    },
    {
      "cell_type": "code",
      "execution_count": null,
      "metadata": {
        "id": "QEI1k6m-qQbG",
        "outputId": "f3426d0a-7d36-4c20-90cb-8d4e09c57fc2"
      },
      "outputs": [
        {
          "name": "stdout",
          "output_type": "stream",
          "text": [
            "current time: 2022-11-01 08:18:24.281809\n",
            "{'HCPCS_Cd': '0001U', 'RBCS_ID': 'TM000N', 'RBCS_Cat': 'T', 'RBCS_Cat_Desc': 'Test', 'RBCS_Cat_Subcat': 'TM', 'RBCS_Subcat_Desc': 'Molecular Testing', 'RBCS_FamNumb': '000', 'RBCS_Family_Desc': 'No RBCS Family', 'RBCS_Major_Ind': 'N', 'HCPCS_Cd_Add_Dt': '01FEB2017', 'HCPCS_Cd_End_Dt': '31DEC9999', 'RBCS_Assignment_Eff_Dt': '01JAN2014', 'RBCS_Assignment_End_Dt': '31DEC2019'}\n",
            "{'HCPCS_Cd': '0001U', 'RBCS_ID': 'TM014N', 'RBCS_Cat': 'T', 'RBCS_Cat_Desc': 'Test', 'RBCS_Cat_Subcat': 'TM', 'RBCS_Subcat_Desc': 'Molecular Testing', 'RBCS_FamNumb': '014', 'RBCS_Family_Desc': 'Genetic Analysis', 'RBCS_Major_Ind': 'N', 'HCPCS_Cd_Add_Dt': '01FEB2017', 'HCPCS_Cd_End_Dt': '31DEC9999', 'RBCS_Assignment_Eff_Dt': '01JAN2016', 'RBCS_Assignment_End_Dt': '31DEC2020'}\n",
            "{'HCPCS_Cd': '0004U', 'RBCS_ID': 'TM000N', 'RBCS_Cat': 'T', 'RBCS_Cat_Desc': 'Test', 'RBCS_Cat_Subcat': 'TM', 'RBCS_Subcat_Desc': 'Molecular Testing', 'RBCS_FamNumb': '000', 'RBCS_Family_Desc': 'No RBCS Family', 'RBCS_Major_Ind': 'N', 'HCPCS_Cd_Add_Dt': '01MAY2017', 'HCPCS_Cd_End_Dt': '31DEC2017', 'RBCS_Assignment_Eff_Dt': '01JAN2014', 'RBCS_Assignment_End_Dt': '31DEC2019'}\n",
            "{'HCPCS_Cd': '0004U', 'RBCS_ID': 'TM014N', 'RBCS_Cat': 'T', 'RBCS_Cat_Desc': 'Test', 'RBCS_Cat_Subcat': 'TM', 'RBCS_Subcat_Desc': 'Molecular Testing', 'RBCS_FamNumb': '014', 'RBCS_Family_Desc': 'Genetic Analysis', 'RBCS_Major_Ind': 'N', 'HCPCS_Cd_Add_Dt': '01MAY2017', 'HCPCS_Cd_End_Dt': '31DEC2017', 'RBCS_Assignment_Eff_Dt': '01JAN2016', 'RBCS_Assignment_End_Dt': '31DEC2020'}\n",
            "{'HCPCS_Cd': '0005U', 'RBCS_ID': 'TM000N', 'RBCS_Cat': 'T', 'RBCS_Cat_Desc': 'Test', 'RBCS_Cat_Subcat': 'TM', 'RBCS_Subcat_Desc': 'Molecular Testing', 'RBCS_FamNumb': '000', 'RBCS_Family_Desc': 'No RBCS Family', 'RBCS_Major_Ind': 'N', 'HCPCS_Cd_Add_Dt': '01MAY2017', 'HCPCS_Cd_End_Dt': '31DEC9999', 'RBCS_Assignment_Eff_Dt': '01JAN2014', 'RBCS_Assignment_End_Dt': '31DEC2019'}\n",
            "{'HCPCS_Cd': '0005U', 'RBCS_ID': 'TM014N', 'RBCS_Cat': 'T', 'RBCS_Cat_Desc': 'Test', 'RBCS_Cat_Subcat': 'TM', 'RBCS_Subcat_Desc': 'Molecular Testing', 'RBCS_FamNumb': '014', 'RBCS_Family_Desc': 'Genetic Analysis', 'RBCS_Major_Ind': 'N', 'HCPCS_Cd_Add_Dt': '01MAY2017', 'HCPCS_Cd_End_Dt': '31DEC9999', 'RBCS_Assignment_Eff_Dt': '01JAN2016', 'RBCS_Assignment_End_Dt': '31DEC2020'}\n",
            "{'HCPCS_Cd': '0006U', 'RBCS_ID': 'TM000N', 'RBCS_Cat': 'T', 'RBCS_Cat_Desc': 'Test', 'RBCS_Cat_Subcat': 'TM', 'RBCS_Subcat_Desc': 'Molecular Testing', 'RBCS_FamNumb': '000', 'RBCS_Family_Desc': 'No RBCS Family', 'RBCS_Major_Ind': 'N', 'HCPCS_Cd_Add_Dt': '01AUG2017', 'HCPCS_Cd_End_Dt': '31MAR2020', 'RBCS_Assignment_Eff_Dt': '01JAN2014', 'RBCS_Assignment_End_Dt': '31DEC2019'}\n",
            "{'HCPCS_Cd': '0006U', 'RBCS_ID': 'TM014N', 'RBCS_Cat': 'T', 'RBCS_Cat_Desc': 'Test', 'RBCS_Cat_Subcat': 'TM', 'RBCS_Subcat_Desc': 'Molecular Testing', 'RBCS_FamNumb': '014', 'RBCS_Family_Desc': 'Genetic Analysis', 'RBCS_Major_Ind': 'N', 'HCPCS_Cd_Add_Dt': '01AUG2017', 'HCPCS_Cd_End_Dt': '31MAR2020', 'RBCS_Assignment_Eff_Dt': '01JAN2016', 'RBCS_Assignment_End_Dt': '31DEC2020'}\n",
            "{'HCPCS_Cd': '0008M', 'RBCS_ID': 'TM000N', 'RBCS_Cat': 'T', 'RBCS_Cat_Desc': 'Test', 'RBCS_Cat_Subcat': 'TM', 'RBCS_Subcat_Desc': 'Molecular Testing', 'RBCS_FamNumb': '000', 'RBCS_Family_Desc': 'No RBCS Family', 'RBCS_Major_Ind': 'N', 'HCPCS_Cd_Add_Dt': '01JUL2014', 'HCPCS_Cd_End_Dt': '31DEC2017', 'RBCS_Assignment_Eff_Dt': '01JAN2015', 'RBCS_Assignment_End_Dt': '31DEC2019'}\n",
            "{'HCPCS_Cd': '0008M', 'RBCS_ID': 'TM014N', 'RBCS_Cat': 'T', 'RBCS_Cat_Desc': 'Test', 'RBCS_Cat_Subcat': 'TM', 'RBCS_Subcat_Desc': 'Molecular Testing', 'RBCS_FamNumb': '014', 'RBCS_Family_Desc': 'Genetic Analysis', 'RBCS_Major_Ind': 'N', 'HCPCS_Cd_Add_Dt': '01JUL2014', 'HCPCS_Cd_End_Dt': '31DEC2017', 'RBCS_Assignment_Eff_Dt': '01JAN2016', 'RBCS_Assignment_End_Dt': '31DEC2020'}\n"
          ]
        }
      ],
      "source": [
        "#filter dictionaries () by values in the Kth key in list\n",
        "#i.e.,, filter rcbsList by values in duplicateList\n",
        "print('current time:',datetime.datetime.now())\n",
        "K = 'HCPCS_Cd'\n",
        "res = []\n",
        "for sub in rcbsList:\n",
        "    #check if Kth key value is present in duplicateList\n",
        "    if sub[K] in duplicateList:\n",
        "        res.append(sub)\n",
        "print(*res[0:10], sep=\"\\n\")"
      ]
    },
    {
      "cell_type": "code",
      "execution_count": null,
      "metadata": {
        "id": "A8AhbmB7qQbG",
        "outputId": "b0418ca0-bc3c-45fe-cc63-3f6217966480"
      },
      "outputs": [
        {
          "name": "stdout",
          "output_type": "stream",
          "text": [
            "{'HCPCS_Cd': '0001U', 'RBCS_ID': 'TM000N', 'RBCS_Cat': 'T', 'RBCS_Cat_Desc': 'Test', 'RBCS_Cat_Subcat': 'TM', 'RBCS_Subcat_Desc': 'Molecular Testing', 'RBCS_FamNumb': '000', 'RBCS_Family_Desc': 'No RBCS Family', 'RBCS_Major_Ind': 'N', 'HCPCS_Cd_Add_Dt': '01FEB2017', 'HCPCS_Cd_End_Dt': '31DEC9999', 'RBCS_Assignment_Eff_Dt': '01JAN2014', 'RBCS_Assignment_End_Dt': '31DEC2019'}\n",
            "{'HCPCS_Cd': '0001U', 'RBCS_ID': 'TM014N', 'RBCS_Cat': 'T', 'RBCS_Cat_Desc': 'Test', 'RBCS_Cat_Subcat': 'TM', 'RBCS_Subcat_Desc': 'Molecular Testing', 'RBCS_FamNumb': '014', 'RBCS_Family_Desc': 'Genetic Analysis', 'RBCS_Major_Ind': 'N', 'HCPCS_Cd_Add_Dt': '01FEB2017', 'HCPCS_Cd_End_Dt': '31DEC9999', 'RBCS_Assignment_Eff_Dt': '01JAN2016', 'RBCS_Assignment_End_Dt': '31DEC2020'}\n"
          ]
        }
      ],
      "source": [
        "# #use list comprehension\n",
        "# #filter dictionaries () by values in the Kth key in list\n",
        "# #i.e.,, filter rcbsList by values in duplicateList\n",
        "# K = 'HCPCS_Cd'\n",
        "# res = []\n",
        "# res = [sub for sub in rcbsList if sub[K] in duplicateList]\n",
        "# print(*res[0:2], sep=\"\\n\")"
      ]
    },
    {
      "cell_type": "code",
      "execution_count": null,
      "metadata": {
        "id": "oG4c9abpqQbG",
        "outputId": "d99257ff-2b9b-44e3-c9e4-0d757f9f1694"
      },
      "outputs": [
        {
          "name": "stdout",
          "output_type": "stream",
          "text": [
            "{'HCPCS_Cd': '51798', 'RBCS_ID': 'IU000N', 'RBCS_Cat': 'I', 'RBCS_Cat_Desc': 'Imaging', 'RBCS_Cat_Subcat': 'IU', 'RBCS_Subcat_Desc': 'Ultrasound', 'RBCS_FamNumb': '000', 'RBCS_Family_Desc': 'No RBCS Family', 'RBCS_Major_Ind': 'N', 'HCPCS_Cd_Add_Dt': '01JAN2003', 'HCPCS_Cd_End_Dt': '31DEC9999', 'RBCS_Assignment_Eff_Dt': '01JAN2015', 'RBCS_Assignment_End_Dt': '31DEC2019'}\n",
            "{'HCPCS_Cd': '51798', 'RBCS_ID': 'IU018N', 'RBCS_Cat': 'I', 'RBCS_Cat_Desc': 'Imaging', 'RBCS_Cat_Subcat': 'IU', 'RBCS_Subcat_Desc': 'Ultrasound', 'RBCS_FamNumb': '018', 'RBCS_Family_Desc': 'Ultrasound - Nonspecific', 'RBCS_Major_Ind': 'N', 'HCPCS_Cd_Add_Dt': '01JAN2003', 'HCPCS_Cd_End_Dt': '31DEC9999', 'RBCS_Assignment_Eff_Dt': '01JAN2016', 'RBCS_Assignment_End_Dt': '31DEC2020'}\n"
          ]
        }
      ],
      "source": [
        "#use list comprehension\n",
        "#filter dictionaries () by values in the Kth key in list\n",
        "#i.e.,, filter rcbsList by values in duplicateList\n",
        "print('current time:',datetime.datetime.now())\n",
        "K = 'HCPCS_Cd'\n",
        "listOfDictHcpcsMoreThanTwo = []\n",
        "listOfDictHcpcsMoreThanTwo = [sub for sub in rcbsList if sub[K] in listHcpcsMoreThanTwo]\n",
        "print(*listOfDictHcpcsMoreThanTwo[0:2], sep=\"\\n\")"
      ]
    },
    {
      "cell_type": "code",
      "execution_count": null,
      "metadata": {
        "id": "epEECIveqQbG",
        "outputId": "18254df5-f2e6-4d90-b196-b16047cd9677"
      },
      "outputs": [
        {
          "name": "stdout",
          "output_type": "stream",
          "text": [
            "current time: 2022-11-01 08:24:11.045979\n",
            "    HCPCS_Cd RBCS_ID RBCS_Cat RBCS_Cat_Desc RBCS_Cat_Subcat  \\\n",
            "0      51798  IU000N        I       Imaging              IU   \n",
            "1      51798  IU018N        I       Imaging              IU   \n",
            "2      81280  TM000N        T          Test              TM   \n",
            "3      81280  TM014N        T          Test              TM   \n",
            "4      81410  TM000N        T          Test              TM   \n",
            "..       ...     ...      ...           ...             ...   \n",
            "112    81432  TL000N        T          Test              TL   \n",
            "113    81412  TL000N        T          Test              TL   \n",
            "114    81422  TL000N        T          Test              TL   \n",
            "115    51798  TX000N        T          Test              TX   \n",
            "116    Q0180  RH002N        R     Treatment              RH   \n",
            "\n",
            "         RBCS_Subcat_Desc RBCS_FamNumb          RBCS_Family_Desc  \\\n",
            "0              Ultrasound          000            No RBCS Family   \n",
            "1              Ultrasound          018  Ultrasound - Nonspecific   \n",
            "2       Molecular Testing          000            No RBCS Family   \n",
            "3       Molecular Testing          014          Genetic Analysis   \n",
            "4       Molecular Testing          000            No RBCS Family   \n",
            "..                    ...          ...                       ...   \n",
            "112    General Laboratory          000            No RBCS Family   \n",
            "113    General Laboratory          000            No RBCS Family   \n",
            "114    General Laboratory          000            No RBCS Family   \n",
            "115  Test - Miscellaneous          000            No RBCS Family   \n",
            "116          Chemotherapy          002    Chemotherapeutic Agent   \n",
            "\n",
            "    RBCS_Major_Ind HCPCS_Cd_Add_Dt HCPCS_Cd_End_Dt RBCS_Assignment_Eff_Dt  \\\n",
            "0                N       01JAN2003       31DEC9999              01JAN2015   \n",
            "1                N       01JAN2003       31DEC9999              01JAN2016   \n",
            "2                N       01JAN2012       31DEC2016              01JAN2015   \n",
            "3                N       01JAN2012       31DEC2016              01JAN2016   \n",
            "4                N       01JAN2015       31DEC9999              01JAN2015   \n",
            "..             ...             ...             ...                    ...   \n",
            "112              N       01JAN2016       31DEC9999              01JAN2014   \n",
            "113              N       01JAN2016       31DEC9999              01JAN2014   \n",
            "114              N       01JAN2017       31DEC9999              01JAN2014   \n",
            "115              N       01JAN2003       31DEC9999              01JAN2014   \n",
            "116              N       01APR1998       31DEC9999              01JAN2014   \n",
            "\n",
            "    RBCS_Assignment_End_Dt  \n",
            "0                31DEC2019  \n",
            "1                31DEC2020  \n",
            "2                31DEC2019  \n",
            "3                31DEC2020  \n",
            "4                31DEC2019  \n",
            "..                     ...  \n",
            "112              31DEC2018  \n",
            "113              31DEC2018  \n",
            "114              31DEC2018  \n",
            "115              31DEC2018  \n",
            "116              31DEC2018  \n",
            "\n",
            "[117 rows x 13 columns]\n"
          ]
        }
      ],
      "source": [
        "#convert a list of dictionaries to a pandas DataFrame\n",
        "#The DataFrame will be used as input for the creation of Contingency Tables\n",
        "print('Create a DataFrame of the hcpcs with 3 rows')\n",
        "print('current time:',datetime.datetime.now())\n",
        "dfHcpcsMoreThanTwo = pd.DataFrame.from_dict(listOfDictHcpcsMoreThanTwo)\n",
        "print(dfHcpcsMoreThanTwo)"
      ]
    },
    {
      "cell_type": "code",
      "execution_count": null,
      "metadata": {
        "id": "cxtHl8sRqQbG",
        "outputId": "68eb91a2-fae1-46c4-c0f2-85e71fd74223"
      },
      "outputs": [
        {
          "data": {
            "text/html": [
              "<div>\n",
              "<style scoped>\n",
              "    .dataframe tbody tr th:only-of-type {\n",
              "        vertical-align: middle;\n",
              "    }\n",
              "\n",
              "    .dataframe tbody tr th {\n",
              "        vertical-align: top;\n",
              "    }\n",
              "\n",
              "    .dataframe thead th {\n",
              "        text-align: right;\n",
              "    }\n",
              "</style>\n",
              "<table border=\"1\" class=\"dataframe\">\n",
              "  <thead>\n",
              "    <tr style=\"text-align: right;\">\n",
              "      <th>RBCS_Assignment_End_Dt</th>\n",
              "      <th>31DEC2018</th>\n",
              "      <th>31DEC2019</th>\n",
              "      <th>31DEC2020</th>\n",
              "    </tr>\n",
              "    <tr>\n",
              "      <th>RBCS_Assignment_Eff_Dt</th>\n",
              "      <th></th>\n",
              "      <th></th>\n",
              "      <th></th>\n",
              "    </tr>\n",
              "  </thead>\n",
              "  <tbody>\n",
              "    <tr>\n",
              "      <th>01JAN2014</th>\n",
              "      <td>39</td>\n",
              "      <td>0</td>\n",
              "      <td>0</td>\n",
              "    </tr>\n",
              "    <tr>\n",
              "      <th>01JAN2015</th>\n",
              "      <td>0</td>\n",
              "      <td>39</td>\n",
              "      <td>0</td>\n",
              "    </tr>\n",
              "    <tr>\n",
              "      <th>01JAN2016</th>\n",
              "      <td>0</td>\n",
              "      <td>0</td>\n",
              "      <td>39</td>\n",
              "    </tr>\n",
              "  </tbody>\n",
              "</table>\n",
              "</div>"
            ],
            "text/plain": [
              "RBCS_Assignment_End_Dt  31DEC2018  31DEC2019  31DEC2020\n",
              "RBCS_Assignment_Eff_Dt                                 \n",
              "01JAN2014                      39          0          0\n",
              "01JAN2015                       0         39          0\n",
              "01JAN2016                       0          0         39"
            ]
          },
          "execution_count": 23,
          "metadata": {},
          "output_type": "execute_result"
        }
      ],
      "source": [
        "print('take a look at the effective and end dates of the hcpcs with 3 rows')\n",
        "print('current time:',datetime.datetime.now())\n",
        "pd.crosstab(index=dfHcpcsMoreThanTwo['RBCS_Assignment_Eff_Dt'], columns=dfHcpcsMoreThanTwo['RBCS_Assignment_End_Dt'])"
      ]
    },
    {
      "cell_type": "code",
      "execution_count": null,
      "metadata": {
        "id": "C9LMXmqOqQbG",
        "outputId": "b8f06122-f8e9-4c96-97ff-6df51eb47387"
      },
      "outputs": [
        {
          "name": "stdout",
          "output_type": "stream",
          "text": [
            "Molecular Testing             68\n",
            "General Laboratory            34\n",
            "Other DME                      6\n",
            "Chemotherapy                   3\n",
            "Ultrasound                     2\n",
            "Behavioral Health Services     2\n",
            "Office/Outpatient Services     1\n",
            "Test - Miscellaneous           1\n",
            "Name: RBCS_Subcat_Desc, dtype: int64\n"
          ]
        }
      ],
      "source": [
        "print('take a look at the sub category descriptions of the hcpcs with 3 rows')\n",
        "print('current time:',datetime.datetime.now())\n",
        "oneWayFreq = dfHcpcsMoreThanTwo['RBCS_Subcat_Desc'].value_counts()\n",
        "print(oneWayFreq)"
      ]
    },
    {
      "cell_type": "code",
      "execution_count": null,
      "metadata": {
        "id": "GezQMmUIqQbG",
        "outputId": "c9f7c5af-2638-441c-b875-98a1f8ce964d"
      },
      "outputs": [
        {
          "name": "stdout",
          "output_type": "stream",
          "text": [
            "create list of dictionaries from list\n",
            "current time: 2022-11-01 11:40:30.442403\n",
            "Sample of List to be converted: ['0001U', '0004U', '0005U', '0006U']\n",
            "Number of items in list: 1087\n",
            "Constructed dictionary list: [{'HCPCS_CD': '0001U'}, {'HCPCS_CD': '0004U'}, {'HCPCS_CD': '0005U'}, {'HCPCS_CD': '0006U'}]\n",
            "Number of items in list: 1087\n"
          ]
        }
      ],
      "source": [
        "#using dictionary comprehension and list comprehension\n",
        "print('create list of dictionaries from list')\n",
        "print('current time:',datetime.datetime.now())\n",
        "print('Sample of List to be converted:',duplicateList[0:4])\n",
        "print('Number of items in list:',len(duplicateList))\n",
        "#initialize key list\n",
        "key_list = ['HCPCS_CD']\n",
        "#use list comprehension to perform conversion\n",
        "n = len(duplicateList)\n",
        "listDictDupsUniq = [{key_list[0]: duplicateList[idx]} for idx in range(0, n, 1)]\n",
        "print('Constructed dictionary list:',listDictDupsUniq[0:4])\n",
        "print('Number of items in list:',len(listDictDupsUniq))"
      ]
    },
    {
      "cell_type": "code",
      "execution_count": null,
      "metadata": {
        "id": "s4clknh6qQbH",
        "outputId": "7d254023-9221-44e6-8075-e495860c7513"
      },
      "outputs": [
        {
          "name": "stdout",
          "output_type": "stream",
          "text": [
            "Create a csv file called RCBS_dups_20221027.csv and write list of dict to it\n",
            "current time: 2022-11-01 11:53:50.423596\n",
            "Number of Rows written out: 1087\n"
          ]
        }
      ],
      "source": [
        "print('Create a csv file called RCBS_dups_20221027.csv and write list of dict to it')\n",
        "print('current time:',datetime.datetime.now())\n",
        "listOfDict = listDictDupsUniq\n",
        "rcbsDupsFileOut = 'Data/RCBS_dups_20221027.csv'\n",
        "rcbsFile = open(rcbsDupsFileOut, 'w')\n",
        "writer = csv.writer(rcbsFile)\n",
        "writer.writerow(list(listOfDict[0].keys()))\n",
        "cnt = 0\n",
        "for dictionary in listOfDict:\n",
        "    cnt = cnt+1\n",
        "    #writer.writerow(dictionary.values())\n",
        "    writer.writerow(dictionary.values())\n",
        "rcbsFile.close()\n",
        "print('Number of Rows written out:',cnt)"
      ]
    },
    {
      "cell_type": "code",
      "execution_count": null,
      "metadata": {
        "id": "aA_4na3lqQbH",
        "outputId": "9b96a74c-7001-42fb-bffd-ede43051c650"
      },
      "outputs": [
        {
          "name": "stdout",
          "output_type": "stream",
          "text": [
            "Print first few rows of recently created csv\n",
            "current time: 2022-11-01 11:46:08.297691\n",
            "['HCPCS_CD']\n",
            "['0001U']\n",
            "['0004U']\n",
            "['0005U']\n"
          ]
        }
      ],
      "source": [
        "print('Print first few rows of recently created csv')\n",
        "print('current time:',datetime.datetime.now())\n",
        "cnt = 0\n",
        "with open(rcbsDupsFileOut, 'r') as file:\n",
        "    reader = csv.reader(file, delimiter = '\\t')\n",
        "    for row in reader:\n",
        "        cnt = cnt+1\n",
        "        if cnt<5:\n",
        "            print(row)"
      ]
    }
  ],
  "metadata": {
    "kernelspec": {
      "display_name": "Python 3",
      "language": "python",
      "name": "python3"
    },
    "language_info": {
      "codemirror_mode": {
        "name": "ipython",
        "version": 3
      },
      "file_extension": ".py",
      "mimetype": "text/x-python",
      "name": "python",
      "nbconvert_exporter": "python",
      "pygments_lexer": "ipython3",
      "version": "3.6.6+"
    },
    "colab": {
      "provenance": [],
      "include_colab_link": true
    }
  },
  "nbformat": 4,
  "nbformat_minor": 0
}